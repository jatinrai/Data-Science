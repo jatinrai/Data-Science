{
 "cells": [
  {
   "cell_type": "code",
   "execution_count": null,
   "metadata": {},
   "outputs": [],
   "source": [
    "# Q.1 - Consider the below given probabilities: \n",
    "# P(A) = 11 / 36\n",
    "# P(B) = 6 / 36\n",
    "# P(A|B) = 2 / 36\n",
    "# Write a function in Python which takes 3 probabilities as argument and outputs the Conditional probability P(B|A)."
   ]
  },
  {
   "cell_type": "code",
   "execution_count": 1,
   "metadata": {},
   "outputs": [
    {
     "name": "stdout",
     "output_type": "stream",
     "text": [
      "0.0303030303030303\n"
     ]
    }
   ],
   "source": [
    "def cond_prob(a,b,a_b):\n",
    "    return (a_b * b)/a\n",
    "\n",
    "print(cond_prob(11/36, 6/36, 2/36))"
   ]
  },
  {
   "cell_type": "code",
   "execution_count": null,
   "metadata": {},
   "outputs": [],
   "source": [
    "# Q.2 - Bag I contains 4 white and 6 black balls while another Bag II contains 4 white and 3 black balls.\n",
    "# One ball is drawn at random from one of the bags and it is found to be black. Find the probability that \n",
    "# it was drawn from Bag I."
   ]
  },
  {
   "cell_type": "code",
   "execution_count": 1,
   "metadata": {},
   "outputs": [
    {
     "name": "stdout",
     "output_type": "stream",
     "text": [
      "0.5833333333333334\n"
     ]
    }
   ],
   "source": [
    "e1=1/2\n",
    "e2=1/2\n",
    "x=3/5\n",
    "y=3/7\n",
    "result=(e1*x)/((e2*y)+(e1*x))\n",
    "print(result)"
   ]
  },
  {
   "cell_type": "code",
   "execution_count": null,
   "metadata": {},
   "outputs": [],
   "source": [
    "# Q.3 - A man is known to speak truth 2 out of 3 times. He throws a die and reports that number obtained is a four.\n",
    "# Find the probability that the number obtained is actually a four."
   ]
  },
  {
   "cell_type": "code",
   "execution_count": 2,
   "metadata": {},
   "outputs": [
    {
     "name": "stdout",
     "output_type": "stream",
     "text": [
      "0.2857142857142857\n"
     ]
    }
   ],
   "source": [
    "a=1/6\n",
    "b=5/6\n",
    "x=2/3\n",
    "y=1/3\n",
    "res=(a*x)/((a*x)+(b*y))\n",
    "print(res)"
   ]
  },
  {
   "cell_type": "code",
   "execution_count": null,
   "metadata": {},
   "outputs": [],
   "source": []
  }
 ],
 "metadata": {
  "kernelspec": {
   "display_name": "Python [default]",
   "language": "python",
   "name": "python3"
  },
  "language_info": {
   "codemirror_mode": {
    "name": "ipython",
    "version": 3
   },
   "file_extension": ".py",
   "mimetype": "text/x-python",
   "name": "python",
   "nbconvert_exporter": "python",
   "pygments_lexer": "ipython3",
   "version": "3.6.4"
  }
 },
 "nbformat": 4,
 "nbformat_minor": 2
}
