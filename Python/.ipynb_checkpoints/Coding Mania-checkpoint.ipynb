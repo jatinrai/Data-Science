{
 "cells": [
  {
   "cell_type": "markdown",
   "metadata": {},
   "source": [
    "## 1. Given an array nums. We define a running sum of an array as runningSum[i] = sum(nums[0]…nums[i]).\n",
    "\n",
    "   Return the running sum of nums.\n",
    "   \n",
    "   __Input:__ nums = [1,2,3,4]\n",
    "   \n",
    "   __Output:__ [1,3,6,10]\n",
    "   \n",
    "   __Explanation:__ Running sum is obtained as follows: [1, 1+2, 1+2+3, 1+2+3+4]."
   ]
  },
  {
   "cell_type": "code",
   "execution_count": 6,
   "metadata": {},
   "outputs": [],
   "source": [
    "from typing import List\n",
    "class Solution:\n",
    "    def runningSum(self, nums: List[int]) -> List[int]:\n",
    "        sum = 0\n",
    "        run_sum = []\n",
    "        for i in range(len(nums)):\n",
    "            sum += nums[i]\n",
    "            run_sum.append(sum)\n",
    "        return run_sum"
   ]
  },
  {
   "cell_type": "code",
   "execution_count": 16,
   "metadata": {},
   "outputs": [
    {
     "data": {
      "text/plain": [
       "[1, 3, 6, 10]"
      ]
     },
     "execution_count": 16,
     "metadata": {},
     "output_type": "execute_result"
    }
   ],
   "source": [
    "from numpy import cumsum\n",
    "list(cumsum([1,2,3,4]))"
   ]
  },
  {
   "cell_type": "code",
   "execution_count": 11,
   "metadata": {},
   "outputs": [
    {
     "data": {
      "text/plain": [
       "[3, 4, 6, 16, 17]"
      ]
     },
     "execution_count": 11,
     "metadata": {},
     "output_type": "execute_result"
    }
   ],
   "source": [
    "Solution.runningSum(Solution,[3,1,2,10,1])"
   ]
  },
  {
   "cell_type": "markdown",
   "metadata": {},
   "source": [
    "## 2. Given the array nums consisting of 2n elements in the form [x1,x2,...,xn,y1,y2,...,yn].\n",
    "\n",
    "  Return the array in the form [x1,y1,x2,y2,...,xn,yn].\n",
    "\n",
    " \n",
    "__Input:__ nums = [2,5,1,3,4,7], n = 3\n",
    "\n",
    "__Output:__ [2,3,5,4,1,7] \n",
    "\n",
    "__Explanation:__ Since x1=2, x2=5, x3=1, y1=3, y2=4, y3=7 then the answer is [2,3,5,4,1,7]."
   ]
  },
  {
   "cell_type": "code",
   "execution_count": 28,
   "metadata": {},
   "outputs": [],
   "source": [
    "class Solution:\n",
    "    def shuffle(self, nums: List[int], n: int) -> List[int]:\n",
    "        shuf = []\n",
    "        for i in range(n):\n",
    "            shuf.extend([nums[i],nums[i+n]])\n",
    "        return shuf"
   ]
  },
  {
   "cell_type": "code",
   "execution_count": 29,
   "metadata": {},
   "outputs": [
    {
     "data": {
      "text/plain": [
       "[2, 3, 5, 4, 1, 7]"
      ]
     },
     "execution_count": 29,
     "metadata": {},
     "output_type": "execute_result"
    }
   ],
   "source": [
    "Solution.shuffle(Solution,[2,5,1,3,4,7],3)"
   ]
  },
  {
   "cell_type": "markdown",
   "metadata": {},
   "source": [
    "## 3. Given the array candies and the integer extraCandies, where candies[i] represents the number of candies that the ith kid has.\n",
    "\n",
    "For each kid check if there is a way to distribute extraCandies among the kids such that he or she can have the greatest number of candies among them. Notice that multiple kids can have the greatest number of candies.\n",
    "\n",
    "\n",
    "__Input:__ candies = [2,3,5,1,3], extraCandies = 3\n",
    "\n",
    "__Output:__ [true,true,true,false,true] \n",
    "\n",
    "Explanation: \n",
    "Kid 1 has 2 candies and if he or she receives all extra candies (3) will have 5 candies --- the greatest number of candies among the kids.\n",
    "<br>\n",
    "Kid 2 has 3 candies and if he or she receives at least 2 extra candies will have the greatest number of candies among the kids. \n",
    "<br>\n",
    "Kid 3 has 5 candies and this is already the greatest number of candies among the kids. \n",
    "<br>\n",
    "Kid 4 has 1 candy and even if he or she receives all extra candies will only have 4 candies. \n",
    "<br>\n",
    "Kid 5 has 3 candies and if he or she receives at least 2 extra candies will have the greatest number of candies among the kids."
   ]
  },
  {
   "cell_type": "code",
   "execution_count": 36,
   "metadata": {},
   "outputs": [],
   "source": [
    "class Solution:\n",
    "    def kidsWithCandies(self, candies: List[int], extraCandies: int) -> List[bool]:\n",
    "        greatest = []\n",
    "        for i in range(len(candies)):\n",
    "            greatest.append(True) if candies[i]+extraCandies >= max(candies) else greatest.append(False)\n",
    "        return greatest"
   ]
  },
  {
   "cell_type": "code",
   "execution_count": 40,
   "metadata": {},
   "outputs": [
    {
     "data": {
      "text/plain": [
       "[True, True, True, False, True]"
      ]
     },
     "execution_count": 40,
     "metadata": {},
     "output_type": "execute_result"
    }
   ],
   "source": [
    "Solution.kidsWithCandies(Solution,[2,3,5,1,3],3)"
   ]
  },
  {
   "cell_type": "markdown",
   "metadata": {},
   "source": [
    "## 4. Given a valid (IPv4) IP address, return a defanged version of that IP address.\n",
    "\n",
    "A defanged IP address replaces every period \".\" with \"[.]\".\n",
    "\n",
    "__Input:__ address = \"1.1.1.1\"\n",
    "\n",
    "__Output:__ \"1[.]1[.]1[.]1\""
   ]
  },
  {
   "cell_type": "code",
   "execution_count": 41,
   "metadata": {},
   "outputs": [],
   "source": [
    "class Solution:\n",
    "    def defangIPaddr(self, address: str) -> str:\n",
    "        return address.replace('.','[.]')"
   ]
  },
  {
   "cell_type": "code",
   "execution_count": 43,
   "metadata": {},
   "outputs": [
    {
     "data": {
      "text/plain": [
       "'1[.]1[.]1[.]1'"
      ]
     },
     "execution_count": 43,
     "metadata": {},
     "output_type": "execute_result"
    }
   ],
   "source": [
    "Solution.defangIPaddr(Solution, \"1.1.1.1\")"
   ]
  },
  {
   "cell_type": "markdown",
   "metadata": {},
   "source": [
    "## 5. Given an array nums of integers, return how many of them contain an even number of digits.\n",
    " \n",
    "\n",
    "__Input:__ nums = [12,345,2,6,7896]\n",
    "\n",
    "__Output:__ 2\n",
    "\n",
    "Explanation: \n",
    "12 contains 2 digits (even number of digits).\n",
    "<br>\n",
    "345 contains 3 digits (odd number of digits).\n",
    "<br>\n",
    "2 contains 1 digit (odd number of digits).\n",
    "<br>\n",
    "6 contains 1 digit (odd number of digits).\n",
    "<br>\n",
    "7896 contains 4 digits (even number of digits). \n",
    "<br>\n",
    "Therefore only 12 and 7896 contain an even number of digits."
   ]
  },
  {
   "cell_type": "code",
   "execution_count": 53,
   "metadata": {},
   "outputs": [],
   "source": [
    "class Solution:\n",
    "    def findNumbers(self, nums: List[int]) -> int:\n",
    "        count = 0\n",
    "        for i in range(len(nums)):\n",
    "            if int(math.log10(nums[i])+1)%2 == 0:\n",
    "                count += 1 \n",
    "        return count"
   ]
  },
  {
   "cell_type": "code",
   "execution_count": 56,
   "metadata": {},
   "outputs": [
    {
     "data": {
      "text/plain": [
       "2"
      ]
     },
     "execution_count": 56,
     "metadata": {},
     "output_type": "execute_result"
    }
   ],
   "source": [
    "Solution.findNumbers(Solution,[12,345,2,6,7896])"
   ]
  },
  {
   "cell_type": "markdown",
   "metadata": {},
   "source": [
    "## 6. Given an array of integers nums.\n",
    "\n",
    "A pair (i,j) is called good if nums[i] == nums[j] and i < j.\n",
    "\n",
    "Return the number of good pairs.\n",
    "\n",
    "\n",
    "__Input:__ nums = [1,2,3,1,1,3]\n",
    "\n",
    "__Output:__ 4\n",
    "\n",
    "Explanation: There are 4 good pairs (0,3), (0,4), (3,4), (2,5) 0-indexed."
   ]
  },
  {
   "cell_type": "code",
   "execution_count": 64,
   "metadata": {},
   "outputs": [],
   "source": [
    "class Solution:\n",
    "    def numIdenticalPairs(self, nums: List[int]) -> int:\n",
    "        pairs = 0\n",
    "        for i in range(len(nums)):\n",
    "            for j in range(i+1,len(nums)):\n",
    "                if nums[i] == nums[j]:\n",
    "                    pairs += 1\n",
    "        return pairs"
   ]
  },
  {
   "cell_type": "code",
   "execution_count": 67,
   "metadata": {},
   "outputs": [
    {
     "data": {
      "text/plain": [
       "0"
      ]
     },
     "execution_count": 67,
     "metadata": {},
     "output_type": "execute_result"
    }
   ],
   "source": [
    "Solution.numIdenticalPairs(Solution,[1,2,3])"
   ]
  },
  {
   "cell_type": "markdown",
   "metadata": {},
   "source": [
    "## 7. Given the array nums, for each nums[i] find out how many numbers in the array are smaller than it. That is, for each nums[i] you have to count the number of valid j's such that j != i and nums[j] < nums[i].\n",
    "\n",
    "Return the answer in an array.\n",
    "\n",
    "__Input:__ nums = [8,1,2,2,3]\n",
    "\n",
    "__Output:__ [4,0,1,1,3]\n",
    "\n",
    "Explanation: \n",
    "For nums[0]=8 there exist four smaller numbers than it (1, 2, 2 and 3). \n",
    "For nums[1]=1 does not exist any smaller number than it.\n",
    "For nums[2]=2 there exist one smaller number than it (1). \n",
    "For nums[3]=2 there exist one smaller number than it (1). \n",
    "For nums[4]=3 there exist three smaller numbers than it (1, 2 and 2)."
   ]
  },
  {
   "cell_type": "code",
   "execution_count": 14,
   "metadata": {},
   "outputs": [],
   "source": [
    "class Solution:\n",
    "    def smallerNumbersThanCurrent(self, nums: List[int]) -> List[int]:\n",
    "        out = []\n",
    "        for i in range(len(nums)):\n",
    "            count = 0\n",
    "            for j in range(len(nums)):\n",
    "                if nums[i] > nums[j]:\n",
    "                    count += 1\n",
    "            out.append(count)\n",
    "        return out"
   ]
  },
  {
   "cell_type": "code",
   "execution_count": 15,
   "metadata": {},
   "outputs": [
    {
     "data": {
      "text/plain": [
       "[4, 0, 1, 1, 3]"
      ]
     },
     "execution_count": 15,
     "metadata": {},
     "output_type": "execute_result"
    }
   ],
   "source": [
    "Solution.smallerNumbersThanCurrent(Solution, [8,1,2,2,3])"
   ]
  },
  {
   "cell_type": "markdown",
   "metadata": {},
   "source": [
    "## 8. Given an integer number n, return the difference between the product of its digits and the sum of its digits.\n",
    " \n",
    "\n",
    "__Input:__ n = 234\n",
    "\n",
    "__Output:__ 15 \n",
    "\n",
    "Explanation: \n",
    "Product of digits = 2 * 3 * 4 = 24 \n",
    "Sum of digits = 2 + 3 + 4 = 9 \n",
    "Result = 24 - 9 = 15"
   ]
  },
  {
   "cell_type": "code",
   "execution_count": 18,
   "metadata": {},
   "outputs": [],
   "source": [
    "class Solution:\n",
    "    def subtractProductAndSum(self, n: int) -> int:\n",
    "        num = str(n)\n",
    "        l = len(num)\n",
    "        prod = 1\n",
    "        s = 0\n",
    "        for i in range(l):\n",
    "            prod *= int(num[i])\n",
    "            s += int(num[i])\n",
    "        return prod - s"
   ]
  },
  {
   "cell_type": "code",
   "execution_count": 20,
   "metadata": {},
   "outputs": [
    {
     "data": {
      "text/plain": [
       "21"
      ]
     },
     "execution_count": 20,
     "metadata": {},
     "output_type": "execute_result"
    }
   ],
   "source": [
    "Solution.subtractProductAndSum(Solution,4421)"
   ]
  },
  {
   "cell_type": "markdown",
   "metadata": {},
   "source": [
    "## 9. Given an integer n and an integer start.\n",
    "\n",
    "Define an array nums where nums[i] = start + 2*i (0-indexed) and n == nums.length.\n",
    "\n",
    "Return the bitwise XOR of all elements of nums.\n",
    "\n",
    " \n",
    "__Input:__ n = 5, start = 0\n",
    "\n",
    "__Output:__ 8\n",
    "\n",
    "Explanation: Array nums is equal to [0, 2, 4, 6, 8] where (0 ^ 2 ^ 4 ^ 6 ^ 8) = 8.\n",
    "Where \"^\" corresponds to bitwise XOR operator."
   ]
  },
  {
   "cell_type": "code",
   "execution_count": 29,
   "metadata": {},
   "outputs": [],
   "source": [
    "from functools import reduce\n",
    "class Solution:\n",
    "    def xorOperation(self, n: int, start: int) -> int:\n",
    "        out = [(start + 2*i) for i in range(n)]\n",
    "        xor = reduce(lambda x, y: x ^ y, out)\n",
    "        return xor"
   ]
  },
  {
   "cell_type": "code",
   "execution_count": 30,
   "metadata": {},
   "outputs": [
    {
     "data": {
      "text/plain": [
       "8"
      ]
     },
     "execution_count": 30,
     "metadata": {},
     "output_type": "execute_result"
    }
   ],
   "source": [
    "Solution.xorOperation(Solution, 5, 0)"
   ]
  },
  {
   "cell_type": "markdown",
   "metadata": {},
   "source": [
    "## 10. Given the array of integers nums, you will choose two different indices i and j of that array. Return the maximum value of (nums[i]-1)*(nums[j]-1).\n",
    " \n",
    "\n",
    "__Input:__ nums = [3,4,5,2]\n",
    "\n",
    "__Output:__ 12 \n",
    "\n",
    "Explanation: If you choose the indices i=1 and j=2 (indexed from 0), you will get the maximum value, that is, (nums[1]-1)*(nums[2]-1) = (4-1)*(5-1) = 3*4 = 12."
   ]
  },
  {
   "cell_type": "code",
   "execution_count": 36,
   "metadata": {},
   "outputs": [],
   "source": [
    "class Solution:\n",
    "    def maxProduct(self, nums: List[int]) -> int:\n",
    "        s = sorted(nums)\n",
    "        return (s[-1]-1)*(s[-2]-1)\n",
    "        "
   ]
  },
  {
   "cell_type": "code",
   "execution_count": 38,
   "metadata": {},
   "outputs": [
    {
     "data": {
      "text/plain": [
       "16"
      ]
     },
     "execution_count": 38,
     "metadata": {},
     "output_type": "execute_result"
    }
   ],
   "source": [
    "Solution.maxProduct(Solution, [1,5,4,5])"
   ]
  },
  {
   "cell_type": "markdown",
   "metadata": {},
   "source": [
    "## 11. There are n soldiers standing in a line. Each soldier is assigned a unique rating value.\n",
    "\n",
    "You have to form a team of 3 soldiers amongst them under the following rules:\n",
    "\n",
    "Choose 3 soldiers with index (i, j, k) with rating (rating[i], rating[j], rating[k]).\n",
    "A team is valid if:  (rating[i] < rating[j] < rating[k]) or (rating[i] > rating[j] > rating[k]) where (0 <= i < j < k < n).\n",
    "Return the number of teams you can form given the conditions. (soldiers can be part of multiple teams).\n",
    "\n",
    "\n",
    "__Input:__ rating = [2,5,3,4,1]\n",
    "\n",
    "__Output:__ 3\n",
    "\n",
    "Explanation: We can form three teams given the conditions. (2,3,4), (5,4,1), (5,3,1)."
   ]
  },
  {
   "cell_type": "code",
   "execution_count": 50,
   "metadata": {},
   "outputs": [],
   "source": [
    "class Solution:\n",
    "    def numTeams(self, rating: List[int]) -> int:\n",
    "        teams = 0\n",
    "        l = len(rating)\n",
    "        for i in range(l):\n",
    "            for j in range(i,l):\n",
    "                for k in range(j,l):\n",
    "                    if ((rating[i] < rating[j]) & (rating[j] < rating[k])) | ((rating[i] > rating[j]) & (rating[j] > rating[k])):\n",
    "                        teams += 1\n",
    "        return teams"
   ]
  },
  {
   "cell_type": "code",
   "execution_count": 53,
   "metadata": {},
   "outputs": [
    {
     "data": {
      "text/plain": [
       "4"
      ]
     },
     "execution_count": 53,
     "metadata": {},
     "output_type": "execute_result"
    }
   ],
   "source": [
    "Solution.numTeams(Solution,[1,2,3,4])"
   ]
  },
  {
   "cell_type": "markdown",
   "metadata": {},
   "source": [
    "## 12. Number of Students Doing Homework at a Given Time\n",
    "Given two integer arrays startTime and endTime and given an integer queryTime.\n",
    "\n",
    "The ith student started doing their homework at the time startTime[i] and finished it at time endTime[i].\n",
    "\n",
    "Return the number of students doing their homework at time queryTime. More formally, return the number of students where queryTime lays in the interval [startTime[i], endTime[i]] inclusive.\n",
    "\n",
    "\n",
    "__Input:__ startTime = [1,2,3], endTime = [3,2,7], queryTime = 4\n",
    "\n",
    "__Output:__ 1\n",
    "\n",
    "Explanation: We have 3 students where:\n",
    "The first student started doing homework at time 1 and finished at time 3 and wasn't doing anything at time 4.\n",
    "The second student started doing homework at time 2 and finished at time 2 and also wasn't doing anything at time 4.\n",
    "The third student started doing homework at time 3 and finished at time 7 and was the only student doing homework at time 4."
   ]
  },
  {
   "cell_type": "code",
   "execution_count": 43,
   "metadata": {},
   "outputs": [],
   "source": [
    "class Solution:\n",
    "    def busyStudent(self, startTime: List[int], endTime: List[int], queryTime: int) -> int:\n",
    "        count = 0\n",
    "        for i in range(len(startTime)):\n",
    "            if (startTime[i] <= queryTime) & (endTime[i] >= queryTime):\n",
    "                count+=1 \n",
    "        return count"
   ]
  },
  {
   "cell_type": "code",
   "execution_count": 47,
   "metadata": {},
   "outputs": [
    {
     "data": {
      "text/plain": [
       "1"
      ]
     },
     "execution_count": 47,
     "metadata": {},
     "output_type": "execute_result"
    }
   ],
   "source": [
    "Solution.busyStudent(Solution, [1,2,3], [3,2,7], 4)"
   ]
  },
  {
   "cell_type": "code",
   "execution_count": null,
   "metadata": {},
   "outputs": [],
   "source": []
  }
 ],
 "metadata": {
  "kernelspec": {
   "display_name": "Python 3",
   "language": "python",
   "name": "python3"
  },
  "language_info": {
   "codemirror_mode": {
    "name": "ipython",
    "version": 3
   },
   "file_extension": ".py",
   "mimetype": "text/x-python",
   "name": "python",
   "nbconvert_exporter": "python",
   "pygments_lexer": "ipython3",
   "version": "3.7.8"
  }
 },
 "nbformat": 4,
 "nbformat_minor": 4
}
