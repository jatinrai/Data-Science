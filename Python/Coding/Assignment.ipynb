{
 "cells": [
  {
   "cell_type": "markdown",
   "metadata": {
    "colab_type": "text",
    "id": "5pSmvozkb8R5"
   },
   "source": [
    "#Exercise 1 <br>\n",
    "**Attempt any 3 questions**"
   ]
  },
  {
   "cell_type": "markdown",
   "metadata": {
    "colab_type": "text",
    "id": "7O_5OQI7b6ST"
   },
   "source": [
    "1.   Create a list of 10 ordered pairs **$(x,y),\\ \\ x\\ \\epsilon\\ [-6,6]$** such that they satisfy the equation **$x^2+y^2=r^2$** where **$r=6$**.\n",
    "2.   We have a list of tuple representing the name and height (in cms) of 5 students respectively. Convert the list into a dictionary so that we can access the student's height from their names. \n",
    "> ```data = [('Sumit', 183), ('Rahul', 175), ('Kritika', 170), ('Harshit', 177), ('Deepak', 162)]``` \n",
    "\n",
    "3.   Write a function which takes list of random integers as an input and returns the list all the unique values present in that list. For ex:\n",
    ">``` \n",
    "Input: [1, 2, 4, 4, 3, 2, 1, 1, 2, 4, 5, 3]\n",
    "Output : [1, 2, 3, 4, 5]\n",
    "```\n",
    "4.   Write a program to generate a dictionary that contains the number between $1$ and $n$ in the form of $(key : value) = (x : x^2)$ where $n=100$. For ex:\n",
    ">```\n",
    "If n = 7 then output will be = {0:0, 1:1, 2:4}\n",
    "```\n",
    "5.  Write a function which takes a dictionary as an input as return the list of all unique values of dictionary. For ex:\n",
    ">```\n",
    "Input : {'a':1, 'b':2, 'c':1, 'd':1, 'e':2, 'f':3, 'g':4, 'h':3, 'i':4}\n",
    "output : [1, 2, 3, 4]\n",
    "```\n",
    "6.  Write a Python program to remove newline characters from a file.\n",
    "7.  Write a Python program that takes a text file as input and returns the number of words of a given text file."
   ]
  },
  {
   "cell_type": "markdown",
   "metadata": {
    "colab_type": "text",
    "id": "O4egsCpycPFy"
   },
   "source": [
    "#Exercise 2\n",
    "**Attempt any 3 questions**"
   ]
  },
  {
   "cell_type": "markdown",
   "metadata": {
    "colab_type": "text",
    "id": "X09PXL74cSzI"
   },
   "source": [
    "1.  Write a python function which accpets a tuple representing the fields (func, $x_a$) where 'func' is **any** function $f(x)$ and $x_a$ is a point on which you have to find the slope i,e; $\\frac{df(x)}{dx}$ and return a tuple of (slope, $x_a$, $f(x_a)$, $\\Delta x$)  where $\\Delta x \\to 0$ but $\\Delta x \\neq 0$.\n",
    ">   Remember : $\\lim_{\\Delta x \\to 0} \\frac{f(x_a + \\Delta x) - f(x_a)}{\\Delta x}$\n",
    "2.  Write a python function which accepts two arguments ($n$, $a$) and returns a tuple of $n$ elements where $n^{th}$ element should be : $n^{th}_{element} = 1+\\frac{a}{1!}+\\frac{a^2}{2!}+\\frac{a^3}{3!}+...+\\frac{a^n}{n!}$ and $a$ should be any positive number. (Observe the last 10 values of returned tuple if $n > 20$)\n",
    "\n",
    "3.  Write a python function which generates the list of $n$ dictionaries representing $n$ students. Each dictionary should have two keys **Name** and **Marks**, the value of **Marks** key should be a list of 10 elements representing marks in 10 subjects as $[a_1,a_2,a_3,a_4,...,a_{10}]$. Create another function which accepts such dictionary and performs operation on marks and returns a list as $[\\alpha_1,\\alpha_2,\\alpha_3,\\alpha_4,...,\\alpha_{10}]$ where $\\alpha_i = \\beta \\alpha_{i-1} + (1-\\beta)a_i$ and $\\beta = 0.99, \\alpha_0 = 1, i=1,2,3,...,10$\n",
    "4.  Create a dictionary, with **keys** should be the number from 1 to 100 (1 and 100 both inclusive) and the value should be the list of string representing whether that key is **'Prime'**, **'Fibonacci'** (if that number exist in Fibonacci sequence), **'Square'** or all of three. Also write a function which accepts a dictionary (which you will create) and string **Prime**, **Fibonacci** or **Square** and by searching through dictionary it should return a tuple of that numbers. Fo ex:\n",
    ">```\n",
    "sample_dict = {1: ['Fibonacci', 'Square'], 6: [], ..., 13: ['Prime', 'Fibonacci'], ..., 34: ['Fibonacci'], ..., 100: ['Square']}\n",
    " For second part of the question:\n",
    " seq = func_name('Fibonacci')\n",
    " print(seq) --> (1, 2, 3, 5, 8, 13, 21, ..., 89)\n",
    "```\n",
    "\n",
    "5.  Copy the below paragraph and write an ecoded text file then read the same file and reconstruct the original paragraph. You have to use $f(a)$ function for encoding and decoding the text. $f(a) = 2a + 3$,where $a$ is an **ASCII** value of charater.\n",
    ">```\n",
    "Data science is an inter-disciplinary field that uses scientific methods, processes, algorithms and systems to extract knowledge and insights from structured and unstructured data. Data science is related to data mining and big data. Data science is a \"concept to unify statistics, data analysis, machine learning and their related methods\" in order to \"understand and analyze actual phenomena\" with data. It employs techniques and theories drawn from many fields within the context of mathematics, statistics, computer science, and information science. Turing award winner Jim Gray imagined data science as a \"fourth paradigm\" of science (empirical, theoretical, computational and now data-driven) and asserted that \"everything about science is changing because of the impact of information technology\" and the data deluge. In 2015, the American Statistical Association identified database management, statistics and machine learning, and distributed and parallel systems as the three emerging foundational professional communities.\n",
    "```\n",
    "6.  Using below text, write a file named File_1.txt and you have to insert new line character after every 10 words.\n",
    ">```\n",
    "Data science is an inter-disciplinary field that uses scientific methods processes algorithms and systems to extract knowledge and insights from structured and unstructured data Data science is related to data mining and big data. Data science is a concept to unify statistics data analysis machine learning and their related methods in order to understand and analyze actual phenomena with data It employs techniques and theories drawn from many fields within the context of mathematics statistics computer science and information science Turing award winner Jim Gray imagined data science as a fourth paradigm of science empirical theoretical computational and now data driven and asserted that everything about science is changing because of the impact of information technology and the data deluge In 2015 the American Statistical Association identified database management statistics and machine learning and distributed and parallel systems as the three emerging foundational professional communities\n",
    "```"
   ]
  },
  {
   "cell_type": "markdown",
   "metadata": {
    "colab": {},
    "colab_type": "code",
    "id": "ZNMSzn1dbyqV"
   },
   "source": [
    "# Exercise 1"
   ]
  },
  {
   "cell_type": "markdown",
   "metadata": {},
   "source": [
    "1.   Create a list of 10 ordered pairs **$(x,y),\\ \\ x\\ \\epsilon\\ [-6,6]$** such that they satisfy the equation **$x^2+y^2=r^2$** where **$r=6$**."
   ]
  },
  {
   "cell_type": "code",
   "execution_count": 13,
   "metadata": {
    "collapsed": true
   },
   "outputs": [
    {
     "data": {
      "text/plain": [
       "[(-6, 0.0),\n",
       " (-5, 3.3166247903554),\n",
       " (-4, 4.47213595499958),\n",
       " (-3, 5.196152422706632),\n",
       " (-2, 5.656854249492381),\n",
       " (-1, 5.916079783099616),\n",
       " (0, 6.0),\n",
       " (1, 5.916079783099616),\n",
       " (2, 5.656854249492381),\n",
       " (3, 5.196152422706632),\n",
       " (4, 4.47213595499958),\n",
       " (5, 3.3166247903554),\n",
       " (6, 0.0)]"
      ]
     },
     "execution_count": 13,
     "metadata": {},
     "output_type": "execute_result"
    }
   ],
   "source": [
    "x = []\n",
    "for i in range(-6,7):\n",
    "    x.append(i)\n",
    "\n",
    "pairs = []\n",
    "for i in x:\n",
    "    n = (36-(i**2))**(0.5)\n",
    "    pairs.append((i,n))\n",
    "pairs"
   ]
  },
  {
   "cell_type": "markdown",
   "metadata": {},
   "source": [
    "2.   We have a list of tuple representing the name and height (in cms) of 5 students respectively. Convert the list into a dictionary so that we can access the student's height from their names. \n",
    "> ```data = [('Sumit', 183), ('Rahul', 175), ('Kritika', 170), ('Harshit', 177), ('Deepak', 162)]``` "
   ]
  },
  {
   "cell_type": "code",
   "execution_count": 14,
   "metadata": {
    "collapsed": true
   },
   "outputs": [
    {
     "data": {
      "text/plain": [
       "{'Sumit': 183, 'Rahul': 175, 'Kritika': 170, 'Harshit': 177, 'Deepak': 162}"
      ]
     },
     "execution_count": 14,
     "metadata": {},
     "output_type": "execute_result"
    }
   ],
   "source": [
    "data = [('Sumit', 183), ('Rahul', 175), ('Kritika', 170), ('Harshit', 177), ('Deepak', 162)]\n",
    "dict = {}\n",
    "for item in data:\n",
    "    dict[item[0]] = item[1]\n",
    "dict"
   ]
  },
  {
   "cell_type": "markdown",
   "metadata": {},
   "source": [
    "3.   Write a function which takes list of random integers as an input and returns the list all the unique values present in that list. For ex:\n",
    ">``` \n",
    "Input: [1, 2, 4, 4, 3, 2, 1, 1, 2, 4, 5, 3]\n",
    "Output : [1, 2, 3, 4, 5]"
   ]
  },
  {
   "cell_type": "code",
   "execution_count": 24,
   "metadata": {
    "collapsed": true
   },
   "outputs": [
    {
     "data": {
      "text/plain": [
       "[1, 2, 3, 4, 5]"
      ]
     },
     "execution_count": 24,
     "metadata": {},
     "output_type": "execute_result"
    }
   ],
   "source": [
    "def unique_values(L):\n",
    "    s = set(L)\n",
    "    return list(s)\n",
    "unique_values([1, 2, 4, 4, 3, 2, 1, 1, 2, 4, 5, 3])"
   ]
  },
  {
   "cell_type": "markdown",
   "metadata": {},
   "source": [
    "4.   Write a program to generate a dictionary that contains the number between $1$ and $n$ in the form of $(key : value) = (x : x^2)$ where $n=100$. For ex:\n",
    ">```\n",
    "If n = 7 then output will be = {0:0, 1:1, 2:4}"
   ]
  },
  {
   "cell_type": "code",
   "execution_count": 27,
   "metadata": {
    "collapsed": true
   },
   "outputs": [
    {
     "data": {
      "text/plain": [
       "{0: 0, 1: 1, 2: 4}"
      ]
     },
     "execution_count": 27,
     "metadata": {},
     "output_type": "execute_result"
    }
   ],
   "source": [
    "def squares(n):\n",
    "    dict = {}\n",
    "    for i in range(n+1):\n",
    "        if (i)**2 <= n:\n",
    "            dict[i] = i**2\n",
    "    return dict\n",
    "squares(7)"
   ]
  },
  {
   "cell_type": "markdown",
   "metadata": {},
   "source": [
    "5.  Write a function which takes a dictionary as an input as return the list of all unique values of dictionary. For ex:\n",
    ">```\n",
    "Input : {'a':1, 'b':2, 'c':1, 'd':1, 'e':2, 'f':3, 'g':4, 'h':3, 'i':4}\n",
    "output : [1, 2, 3, 4]"
   ]
  },
  {
   "cell_type": "code",
   "execution_count": 29,
   "metadata": {},
   "outputs": [
    {
     "data": {
      "text/plain": [
       "[1, 2, 3, 4]"
      ]
     },
     "execution_count": 29,
     "metadata": {},
     "output_type": "execute_result"
    }
   ],
   "source": [
    "def unique_values(d):\n",
    "    unique = set(d.values())\n",
    "    return list(unique)\n",
    "unique_values({'a':1, 'b':2, 'c':1, 'd':1, 'e':2, 'f':3, 'g':4, 'h':3, 'i':4})"
   ]
  },
  {
   "cell_type": "markdown",
   "metadata": {},
   "source": [
    "6.  Write a Python program to remove newline characters from a file."
   ]
  },
  {
   "cell_type": "code",
   "execution_count": 30,
   "metadata": {},
   "outputs": [],
   "source": [
    "def remove_newline(f):\n",
    "    text = \"\"\n",
    "    with open(f, \"r\") as file:\n",
    "        for line in file.readlines():\n",
    "            text += line[:-2] + \" \"\n",
    "    return text"
   ]
  },
  {
   "cell_type": "markdown",
   "metadata": {},
   "source": [
    "7.  Write a Python program that takes a text file as input and returns the number of words of a given text file."
   ]
  },
  {
   "cell_type": "code",
   "execution_count": 61,
   "metadata": {},
   "outputs": [],
   "source": [
    "def no_of_words(f):\n",
    "    words = 0\n",
    "    with open(f, \"r\") as file:\n",
    "        for line in file.readlines():\n",
    "            words += line.__len__()\n",
    "    return words"
   ]
  },
  {
   "cell_type": "code",
   "execution_count": 62,
   "metadata": {},
   "outputs": [
    {
     "ename": "UnicodeDecodeError",
     "evalue": "'charmap' codec can't decode byte 0x81 in position 4867: character maps to <undefined>",
     "output_type": "error",
     "traceback": [
      "\u001b[1;31m---------------------------------------------------------------------------\u001b[0m",
      "\u001b[1;31mUnicodeDecodeError\u001b[0m                        Traceback (most recent call last)",
      "\u001b[1;32m<ipython-input-62-899f58c71e19>\u001b[0m in \u001b[0;36m<module>\u001b[1;34m\u001b[0m\n\u001b[1;32m----> 1\u001b[1;33m \u001b[0mno_of_words\u001b[0m\u001b[1;33m(\u001b[0m\u001b[1;34m\"aayushRESUME.doc\"\u001b[0m\u001b[1;33m)\u001b[0m\u001b[1;33m\u001b[0m\u001b[1;33m\u001b[0m\u001b[0m\n\u001b[0m",
      "\u001b[1;32m<ipython-input-61-cb88610302d5>\u001b[0m in \u001b[0;36mno_of_words\u001b[1;34m(f)\u001b[0m\n\u001b[0;32m      2\u001b[0m     \u001b[0mwords\u001b[0m \u001b[1;33m=\u001b[0m \u001b[1;36m0\u001b[0m\u001b[1;33m\u001b[0m\u001b[1;33m\u001b[0m\u001b[0m\n\u001b[0;32m      3\u001b[0m     \u001b[1;32mwith\u001b[0m \u001b[0mopen\u001b[0m\u001b[1;33m(\u001b[0m\u001b[0mf\u001b[0m\u001b[1;33m,\u001b[0m \u001b[1;34m\"r\"\u001b[0m\u001b[1;33m)\u001b[0m \u001b[1;32mas\u001b[0m \u001b[0mfile\u001b[0m\u001b[1;33m:\u001b[0m\u001b[1;33m\u001b[0m\u001b[1;33m\u001b[0m\u001b[0m\n\u001b[1;32m----> 4\u001b[1;33m         \u001b[1;32mfor\u001b[0m \u001b[0mline\u001b[0m \u001b[1;32min\u001b[0m \u001b[0mfile\u001b[0m\u001b[1;33m.\u001b[0m\u001b[0mreadlines\u001b[0m\u001b[1;33m(\u001b[0m\u001b[1;33m)\u001b[0m\u001b[1;33m:\u001b[0m\u001b[1;33m\u001b[0m\u001b[1;33m\u001b[0m\u001b[0m\n\u001b[0m\u001b[0;32m      5\u001b[0m             \u001b[0mwords\u001b[0m \u001b[1;33m+=\u001b[0m \u001b[0mline\u001b[0m\u001b[1;33m.\u001b[0m\u001b[0m__len__\u001b[0m\u001b[1;33m(\u001b[0m\u001b[1;33m)\u001b[0m\u001b[1;33m\u001b[0m\u001b[1;33m\u001b[0m\u001b[0m\n\u001b[0;32m      6\u001b[0m     \u001b[1;32mreturn\u001b[0m \u001b[0mwords\u001b[0m\u001b[1;33m\u001b[0m\u001b[1;33m\u001b[0m\u001b[0m\n",
      "\u001b[1;32mc:\\users\\hp\\appdata\\local\\programs\\python\\python37\\lib\\encodings\\cp1252.py\u001b[0m in \u001b[0;36mdecode\u001b[1;34m(self, input, final)\u001b[0m\n\u001b[0;32m     21\u001b[0m \u001b[1;32mclass\u001b[0m \u001b[0mIncrementalDecoder\u001b[0m\u001b[1;33m(\u001b[0m\u001b[0mcodecs\u001b[0m\u001b[1;33m.\u001b[0m\u001b[0mIncrementalDecoder\u001b[0m\u001b[1;33m)\u001b[0m\u001b[1;33m:\u001b[0m\u001b[1;33m\u001b[0m\u001b[1;33m\u001b[0m\u001b[0m\n\u001b[0;32m     22\u001b[0m     \u001b[1;32mdef\u001b[0m \u001b[0mdecode\u001b[0m\u001b[1;33m(\u001b[0m\u001b[0mself\u001b[0m\u001b[1;33m,\u001b[0m \u001b[0minput\u001b[0m\u001b[1;33m,\u001b[0m \u001b[0mfinal\u001b[0m\u001b[1;33m=\u001b[0m\u001b[1;32mFalse\u001b[0m\u001b[1;33m)\u001b[0m\u001b[1;33m:\u001b[0m\u001b[1;33m\u001b[0m\u001b[1;33m\u001b[0m\u001b[0m\n\u001b[1;32m---> 23\u001b[1;33m         \u001b[1;32mreturn\u001b[0m \u001b[0mcodecs\u001b[0m\u001b[1;33m.\u001b[0m\u001b[0mcharmap_decode\u001b[0m\u001b[1;33m(\u001b[0m\u001b[0minput\u001b[0m\u001b[1;33m,\u001b[0m\u001b[0mself\u001b[0m\u001b[1;33m.\u001b[0m\u001b[0merrors\u001b[0m\u001b[1;33m,\u001b[0m\u001b[0mdecoding_table\u001b[0m\u001b[1;33m)\u001b[0m\u001b[1;33m[\u001b[0m\u001b[1;36m0\u001b[0m\u001b[1;33m]\u001b[0m\u001b[1;33m\u001b[0m\u001b[1;33m\u001b[0m\u001b[0m\n\u001b[0m\u001b[0;32m     24\u001b[0m \u001b[1;33m\u001b[0m\u001b[0m\n\u001b[0;32m     25\u001b[0m \u001b[1;32mclass\u001b[0m \u001b[0mStreamWriter\u001b[0m\u001b[1;33m(\u001b[0m\u001b[0mCodec\u001b[0m\u001b[1;33m,\u001b[0m\u001b[0mcodecs\u001b[0m\u001b[1;33m.\u001b[0m\u001b[0mStreamWriter\u001b[0m\u001b[1;33m)\u001b[0m\u001b[1;33m:\u001b[0m\u001b[1;33m\u001b[0m\u001b[1;33m\u001b[0m\u001b[0m\n",
      "\u001b[1;31mUnicodeDecodeError\u001b[0m: 'charmap' codec can't decode byte 0x81 in position 4867: character maps to <undefined>"
     ]
    }
   ],
   "source": [
    "no_of_words(\"aayushRESUME.doc\")"
   ]
  },
  {
   "cell_type": "code",
   "execution_count": 48,
   "metadata": {},
   "outputs": [],
   "source": [
    "sample_text = \"Quantum entanglement is a label for the observed physical phenomenon\\nthat occurs when a pair or group of particles is generated, interact, or share\\nspatial proximity in a way such that th\""
   ]
  },
  {
   "cell_type": "code",
   "execution_count": 49,
   "metadata": {},
   "outputs": [],
   "source": [
    "with open('sample text.txt', 'w') as file:\n",
    "    file.write(sample_text)"
   ]
  },
  {
   "cell_type": "code",
   "execution_count": 50,
   "metadata": {},
   "outputs": [
    {
     "data": {
      "text/plain": [
       "32"
      ]
     },
     "execution_count": 50,
     "metadata": {},
     "output_type": "execute_result"
    }
   ],
   "source": [
    "no_of_words = 0\n",
    "with open(\"sample text.txt\", 'r') as file:\n",
    "    for line in file.readlines():\n",
    "        no_of_words += line.split(\" \").__len__()\n",
    "no_of_words"
   ]
  },
  {
   "cell_type": "markdown",
   "metadata": {},
   "source": [
    "# Excercise 2"
   ]
  },
  {
   "cell_type": "markdown",
   "metadata": {},
   "source": [
    "1.  Write a python function which accpets a tuple representing the fields (func, $x_a$) where 'func' is **any** function $f(x)$ and $x_a$ is a point on which you have to find the slope i,e; $\\frac{df(x)}{dx}$ and return a tuple of (slope, $x_a$, $f(x_a)$, $\\Delta x$)  where $\\Delta x \\to 0$ but $\\Delta x \\neq 0$.\n",
    ">   Remember : $\\lim_{\\Delta x \\to 0} \\frac{f(x_a + \\Delta x) - f(x_a)}{\\Delta x}$"
   ]
  },
  {
   "cell_type": "code",
   "execution_count": 58,
   "metadata": {},
   "outputs": [],
   "source": [
    "def fun(x):\n",
    "    return x**2\n",
    "\n",
    "def find_derivative(data):\n",
    "    fun, x_a = data\n",
    "    delta_x = 0.000001\n",
    "    f_x_a = fun(x_a)\n",
    "    f_delta_x = fun(x_a + delta_x)\n",
    "    return ((f_delta_x - f_x_a)/delta_x,x_a,f_x_a,delta_x)"
   ]
  },
  {
   "cell_type": "code",
   "execution_count": 59,
   "metadata": {
    "collapsed": true
   },
   "outputs": [
    {
     "data": {
      "text/plain": [
       "(12.00000099998988, 6, 36, 1e-06)"
      ]
     },
     "execution_count": 59,
     "metadata": {},
     "output_type": "execute_result"
    }
   ],
   "source": [
    "data = (fun, 6)\n",
    "find_derivative(data)"
   ]
  },
  {
   "cell_type": "markdown",
   "metadata": {},
   "source": [
    "2.  Write a python function which accepts two arguments ($n$, $a$) and returns a tuple of $n$ elements where $n^{th}$ element should be : $n^{th}_{element} = 1+\\frac{a}{1!}+\\frac{a^2}{2!}+\\frac{a^3}{3!}+...+\\frac{a^n}{n!}$ and $a$ should be any positive number. (Observe the last 10 values of returned tuple if $n > 20$)"
   ]
  },
  {
   "cell_type": "code",
   "execution_count": 71,
   "metadata": {
    "collapsed": true
   },
   "outputs": [
    {
     "data": {
      "text/plain": [
       "(8.0,\n",
       " 32.5,\n",
       " 89.66666666666666,\n",
       " 189.70833333333331,\n",
       " 329.76666666666665,\n",
       " 493.16805555555555,\n",
       " 656.5694444444445,\n",
       " 799.5456597222222,\n",
       " 910.7493827160494,\n",
       " 988.5919888117284,\n",
       " 1038.1281926907968,\n",
       " 1067.0243116202535,\n",
       " 1082.5837602745762,\n",
       " 1090.3634846017376,\n",
       " 1093.9940226210795,\n",
       " 1095.5823830045415,\n",
       " 1096.236413750673,\n",
       " 1096.4907590408352,\n",
       " 1096.5844652003686,\n",
       " 1096.6172623562054,\n",
       " 1096.6281947414843,\n",
       " 1096.6316732277094,\n",
       " 1096.63273189743,\n",
       " 1096.6330406760985,\n",
       " 1096.6331271341257,\n",
       " 1096.6331504112868,\n",
       " 1096.6331564461063,\n",
       " 1096.6331579548112,\n",
       " 1096.6331583189813)"
      ]
     },
     "execution_count": 71,
     "metadata": {},
     "output_type": "execute_result"
    }
   ],
   "source": [
    "def factorial(n):\n",
    "    if n<=1:\n",
    "        return 1\n",
    "    else:\n",
    "        return n*factorial(n-1)\n",
    "    \n",
    "def n_th_term(n, a):\n",
    "    sum = 1\n",
    "    for i in range(n):\n",
    "        sum += (a**(i+1))/(factorial(i+1))\n",
    "    return sum\n",
    "\n",
    "def tuple_of_series(n, a):\n",
    "    terms = []\n",
    "    for i in range(1,n):\n",
    "        terms.append(n_th_term(i,a))\n",
    "    return tuple(terms)\n",
    "tuple_of_series(30, 7)"
   ]
  },
  {
   "cell_type": "markdown",
   "metadata": {},
   "source": [
    "4.  Create a dictionary, with **keys** should be the number from 1 to 100 (1 and 100 both inclusive) and the value should be the list of string representing whether that key is **'Prime'**, **'Fibonacci'** (if that number exist in Fibonacci sequence), **'Square'** or all of three. Also write a function which accepts a dictionary (which you will create) and string **Prime**, **Fibonacci** or **Square** and by searching through dictionary it should return a tuple of that numbers. Fo ex:\n",
    ">```\n",
    "sample_dict = {1: ['Fibonacci', 'Square'], 6: [], ..., 13: ['Prime', 'Fibonacci'], ..., 34: ['Fibonacci'], ..., 100: ['Square']}\n",
    " For second part of the question:\n",
    " seq = func_name('Fibonacci')\n",
    " print(seq) --> (1, 2, 3, 5, 8, 13, 21, ..., 89)"
   ]
  },
  {
   "cell_type": "code",
   "execution_count": 101,
   "metadata": {},
   "outputs": [
    {
     "name": "stdout",
     "output_type": "stream",
     "text": [
      "(1, 2, 3, 5, 8, 13, 21, 34, 55, 89)\n",
      "(1, 4, 9, 16, 25, 36, 49, 64, 81, 100)\n",
      "(2, 3, 5, 7, 11, 13, 17, 19, 23, 29, 31, 37, 41, 43, 47, 53, 59, 61, 67, 71, 73, 79, 83, 89, 97)\n"
     ]
    }
   ],
   "source": [
    "def fibonacci(n):\n",
    "    l = [1,1]\n",
    "    a = 1\n",
    "    b =1\n",
    "    for i in range(n):\n",
    "        temp = a+b\n",
    "        a = b\n",
    "        b = temp\n",
    "        l.append(temp)\n",
    "    return l\n",
    "\n",
    "def squares(n):\n",
    "    l = []\n",
    "    for i in range(n):\n",
    "        l.append((i+1)**2)\n",
    "    return l\n",
    "\n",
    "def is_prime(n):\n",
    "    k = 0\n",
    "    for i in range(2,n//2+1):\n",
    "        if n%i == 0:\n",
    "            k += 1\n",
    "    if k == 0:\n",
    "        return True\n",
    "    else: \n",
    "        return False\n",
    "    \n",
    "def prime(n):\n",
    "    l = []\n",
    "    for i in range(2,n+1):\n",
    "        if is_prime(i):\n",
    "            l.append(i)\n",
    "    return l\n",
    "        \n",
    "\n",
    "\n",
    "def create_dict():\n",
    "    dict = {}\n",
    "    for i in range(1,101):\n",
    "        if i not in dict:\n",
    "            dict[i] = []\n",
    "        if i in fibonacci(9):\n",
    "            dict[i].append(\"Fibonacci\")\n",
    "        if i in squares(10):\n",
    "            dict[i].append(\"Squares\")\n",
    "        if i in prime(100):\n",
    "            dict[i].append(\"Prime\")\n",
    "    return dict\n",
    "\n",
    "\n",
    "def category(dict,property):\n",
    "    l = []\n",
    "    for i in dict.items():\n",
    "        if property in i[1]:\n",
    "            l.append(i[0])\n",
    "    return tuple(l)\n",
    "    \n",
    "num_dict = create_dict()\n",
    "print(category(num_dict, 'Fibonacci'))\n",
    "print(category(num_dict, 'Squares'))\n",
    "print(category(num_dict, 'Prime'))\n",
    "        "
   ]
  },
  {
   "cell_type": "markdown",
   "metadata": {},
   "source": [
    "5.  Copy the below paragraph and write an ecoded text file then read the same file and reconstruct the original paragraph. You have to use $f(a)$ function for encoding and decoding the text. $f(a) = 2a + 3$,where $a$ is an **ASCII** value of charater.\n",
    ">```\n",
    "Data science is an inter-disciplinary field that uses scientific methods, processes, algorithms and systems to extract knowledge and insights from structured and unstructured data. Data science is related to data mining and big data. Data science is a \"concept to unify statistics, data analysis, machine learning and their related methods\" in order to \"understand and analyze actual phenomena\" with data. It employs techniques and theories drawn from many fields within the context of mathematics, statistics, computer science, and information science. Turing award winner Jim Gray imagined data science as a \"fourth paradigm\" of science (empirical, theoretical, computational and now data-driven) and asserted that \"everything about science is changing because of the impact of information technology\" and the data deluge. In 2015, the American Statistical Association identified database management, statistics and machine learning, and distributed and parallel systems as the three emerging foundational professional communities.\n",
    "```"
   ]
  },
  {
   "cell_type": "code",
   "execution_count": 113,
   "metadata": {},
   "outputs": [
    {
     "data": {
      "text/plain": [
       "'Data science is an inter-disciplinary field that uses scientific methods, processes, algorithms and systems to extract knowledge and insights from structured and unstructured data. Data science is related to data mining and big data. Data science is a \"concept to unify statistics, data analysis, machine learning and their related methods\" in order to \"understand and analyze actual phenomena\" with data. It employs techniques and theories drawn from many fields within the context of mathematics, statistics, computer science, and information science. Turing award winner Jim Gray imagined data science as a \"fourth paradigm\" of science (empirical, theoretical, computational and now data-driven) and asserted that \"everything about science is changing because of the impact of information technology\" and the data deluge. In 2015, the American Statistical Association identified database management, statistics and machine learning, and distributed and parallel systems as the three emerging foundational professional communities.'"
      ]
     },
     "execution_count": 113,
     "metadata": {},
     "output_type": "execute_result"
    }
   ],
   "source": [
    "def func(a):\n",
    "    return ((2*int(ord(a)))+3)   # ord for ASCII\n",
    "\n",
    "def f_inv(a):\n",
    "    return chr(int((a - 3)/2))   # chr for char\n",
    "\n",
    "text = 'Data science is an inter-disciplinary field that uses scientific methods, processes, algorithms and systems to extract knowledge and insights from structured and unstructured data. Data science is related to data mining and big data. Data science is a \"concept to unify statistics, data analysis, machine learning and their related methods\" in order to \"understand and analyze actual phenomena\" with data. It employs techniques and theories drawn from many fields within the context of mathematics, statistics, computer science, and information science. Turing award winner Jim Gray imagined data science as a \"fourth paradigm\" of science (empirical, theoretical, computational and now data-driven) and asserted that \"everything about science is changing because of the impact of information technology\" and the data deluge. In 2015, the American Statistical Association identified database management, statistics and machine learning, and distributed and parallel systems as the three emerging foundational professional communities.'\n",
    "text"
   ]
  },
  {
   "cell_type": "code",
   "execution_count": 114,
   "metadata": {},
   "outputs": [
    {
     "data": {
      "text/plain": [
       "'139 197 235 197 67 233 201 213 205 223 201 205 67 213 233 67 197 223 67 213 223 235 205 231 93 203 213 233 201 213 227 219 213 223 197 231 245 67 207 213 205 219 203 67 235 211 197 235 67 237 233 205 233 67 233 201 213 205 223 235 213 207 213 201 67 221 205 235 211 225 203 233 91 67 227 231 225 201 205 233 233 205 233 91 67 197 219 209 225 231 213 235 211 221 233 67 197 223 203 67 233 245 233 235 205 221 233 67 235 225 67 205 243 235 231 197 201 235 67 217 223 225 241 219 205 203 209 205 67 197 223 203 67 213 223 233 213 209 211 235 233 67 207 231 225 221 67 233 235 231 237 201 235 237 231 205 203 67 197 223 203 67 237 223 233 235 231 237 201 235 237 231 205 203 67 203 197 235 197 95 67 139 197 235 197 67 233 201 213 205 223 201 205 67 213 233 67 231 205 219 197 235 205 203 67 235 225 67 203 197 235 197 67 221 213 223 213 223 209 67 197 223 203 67 199 213 209 67 203 197 235 197 95 67 139 197 235 197 67 233 201 213 205 223 201 205 67 213 233 67 197 67 71 201 225 223 201 205 227 235 67 235 225 67 237 223 213 207 245 67 233 235 197 235 213 233 235 213 201 233 91 67 203 197 235 197 67 197 223 197 219 245 233 213 233 91 67 221 197 201 211 213 223 205 67 219 205 197 231 223 213 223 209 67 197 223 203 67 235 211 205 213 231 67 231 205 219 197 235 205 203 67 221 205 235 211 225 203 233 71 67 213 223 67 225 231 203 205 231 67 235 225 67 71 237 223 203 205 231 233 235 197 223 203 67 197 223 203 67 197 223 197 219 245 247 205 67 197 201 235 237 197 219 67 227 211 205 223 225 221 205 223 197 71 67 241 213 235 211 67 203 197 235 197 95 67 149 235 67 205 221 227 219 225 245 233 67 235 205 201 211 223 213 229 237 205 233 67 197 223 203 67 235 211 205 225 231 213 205 233 67 203 231 197 241 223 67 207 231 225 221 67 221 197 223 245 67 207 213 205 219 203 233 67 241 213 235 211 213 223 67 235 211 205 67 201 225 223 235 205 243 235 67 225 207 67 221 197 235 211 205 221 197 235 213 201 233 91 67 233 235 197 235 213 233 235 213 201 233 91 67 201 225 221 227 237 235 205 231 67 233 201 213 205 223 201 205 91 67 197 223 203 67 213 223 207 225 231 221 197 235 213 225 223 67 233 201 213 205 223 201 205 95 67 171 237 231 213 223 209 67 197 241 197 231 203 67 241 213 223 223 205 231 67 151 213 221 67 145 231 197 245 67 213 221 197 209 213 223 205 203 67 203 197 235 197 67 233 201 213 205 223 201 205 67 197 233 67 197 67 71 207 225 237 231 235 211 67 227 197 231 197 203 213 209 221 71 67 225 207 67 233 201 213 205 223 201 205 67 83 205 221 227 213 231 213 201 197 219 91 67 235 211 205 225 231 205 235 213 201 197 219 91 67 201 225 221 227 237 235 197 235 213 225 223 197 219 67 197 223 203 67 223 225 241 67 203 197 235 197 93 203 231 213 239 205 223 85 67 197 223 203 67 197 233 233 205 231 235 205 203 67 235 211 197 235 67 71 205 239 205 231 245 235 211 213 223 209 67 197 199 225 237 235 67 233 201 213 205 223 201 205 67 213 233 67 201 211 197 223 209 213 223 209 67 199 205 201 197 237 233 205 67 225 207 67 235 211 205 67 213 221 227 197 201 235 67 225 207 67 213 223 207 225 231 221 197 235 213 225 223 67 235 205 201 211 223 225 219 225 209 245 71 67 197 223 203 67 235 211 205 67 203 197 235 197 67 203 205 219 237 209 205 95 67 149 223 67 103 99 101 109 91 67 235 211 205 67 133 221 205 231 213 201 197 223 67 169 235 197 235 213 233 235 213 201 197 219 67 133 233 233 225 201 213 197 235 213 225 223 67 213 203 205 223 235 213 207 213 205 203 67 203 197 235 197 199 197 233 205 67 221 197 223 197 209 205 221 205 223 235 91 67 233 235 197 235 213 233 235 213 201 233 67 197 223 203 67 221 197 201 211 213 223 205 67 219 205 197 231 223 213 223 209 91 67 197 223 203 67 203 213 233 235 231 213 199 237 235 205 203 67 197 223 203 67 227 197 231 197 219 219 205 219 67 233 245 233 235 205 221 233 67 197 233 67 235 211 205 67 235 211 231 205 205 67 205 221 205 231 209 213 223 209 67 207 225 237 223 203 197 235 213 225 223 197 219 67 227 231 225 207 205 233 233 213 225 223 197 219 67 201 225 221 221 237 223 213 235 213 205 233 95 '"
      ]
     },
     "execution_count": 114,
     "metadata": {},
     "output_type": "execute_result"
    }
   ],
   "source": [
    "encoded = ''\n",
    "for i in text:\n",
    "    encoded += str(func(i)) + ' '\n",
    "encoded"
   ]
  },
  {
   "cell_type": "code",
   "execution_count": 121,
   "metadata": {},
   "outputs": [
    {
     "data": {
      "text/plain": [
       "'Data science is an inter-disciplinary field that uses scientific methods, processes, algorithms and systems to extract knowledge and insights from structured and unstructured data. Data science is related to data mining and big data. Data science is a \"concept to unify statistics, data analysis, machine learning and their related methods\" in order to \"understand and analyze actual phenomena\" with data. It employs techniques and theories drawn from many fields within the context of mathematics, statistics, computer science, and information science. Turing award winner Jim Gray imagined data science as a \"fourth paradigm\" of science (empirical, theoretical, computational and now data-driven) and asserted that \"everything about science is changing because of the impact of information technology\" and the data deluge. In 2015, the American Statistical Association identified database management, statistics and machine learning, and distributed and parallel systems as the three emerging foundational professional communities.'"
      ]
     },
     "execution_count": 121,
     "metadata": {},
     "output_type": "execute_result"
    }
   ],
   "source": [
    "reconstruct_para = ''\n",
    "for a in encoded.split(' '):\n",
    "    if a.__len__() > 0:\n",
    "        reconstruct_para = reconstruct_para + f_inv(int(a))\n",
    "reconstruct_para"
   ]
  },
  {
   "cell_type": "code",
   "execution_count": null,
   "metadata": {},
   "outputs": [],
   "source": []
  }
 ],
 "metadata": {
  "colab": {
   "collapsed_sections": [
    "5pSmvozkb8R5",
    "O4egsCpycPFy"
   ],
   "name": "PadhAI_FDS_Week_5_Assignment.ipynb",
   "provenance": []
  },
  "kernelspec": {
   "display_name": "Python 3",
   "language": "python",
   "name": "python3"
  },
  "language_info": {
   "codemirror_mode": {
    "name": "ipython",
    "version": 3
   },
   "file_extension": ".py",
   "mimetype": "text/x-python",
   "name": "python",
   "nbconvert_exporter": "python",
   "pygments_lexer": "ipython3",
   "version": "3.7.8"
  }
 },
 "nbformat": 4,
 "nbformat_minor": 1
}
