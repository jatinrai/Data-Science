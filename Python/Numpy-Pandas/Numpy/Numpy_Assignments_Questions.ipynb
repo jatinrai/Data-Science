{
 "cells": [
  {
   "cell_type": "markdown",
   "metadata": {
    "colab_type": "text",
    "id": "TzyvCghfCM7X"
   },
   "source": [
    "#Exercise"
   ]
  },
  {
   "cell_type": "markdown",
   "metadata": {
    "colab_type": "text",
    "id": "6bjea3xQCacL"
   },
   "source": [
    "1.   Write a program to multiply two matrices of size $(100, 100)$ in two methods: (a) by using `np.dot(mat_1, mat_2)` and (b) by using for-loops. Comapre the time of execution in both the cases. Check out the documentation of `np.dot` in case that is not familiar to you. \n",
    "\n",
    "2.   Write a program to execute the steps below using numpy:\n",
    "    $$z_{ij} = \\sum_{k=1}^{n}w_{ik}x_{kj}$$\n",
    "    $$\\sigma_{ij}(z_{ij}) = \\frac{1}{1+e^{-z_{ij}}}$$ where $\\textbf{w}$ and $\\textbf{x}$ are matrices of random numbers having  dimensions $(m,n)$ and $(n,k)$, respectively, $\\sigma(z)$ is a function which performs above defined operation on elements of $\\textbf{z}$.\n",
    "\n",
    "3.   Consider a matrix $\\textbf{M}$ of size $(n, n)$. Flatten this into a 1-dimensional array and \n",
    "> 1. compute **mean** and **standard deviation** of $\\textbf{M}$ in *two* ways. <br>\n",
    "> 2. Apply the element wise operation as defined below: $$z_i = \\frac{x_i - \\mu}{\\sigma}$$ <br> where $x_i, \\ \\mu,\\ \\sigma$ are elements, mean and standard deviation of flattened matrix $\\textbf{M}$ respectively. And $z$ is the output vector.\n",
    "> 3. Compute the **mean** and **standard deviation** of $z$ and compare them with the **mean** and **standard deviation** of $\\textbf{M}$.\n",
    "> 4. Resaon about the above comparison.\n",
    "\n",
    "4.   Consider an $n$ dimentional vector $\\vec{V}$ (having $n$ elements), calculate :\n",
    "> 1. $|\\vec{V}|$ (magnitude of vector)\n",
    "> 2. $\\sum_{i=1}^{n}v_i^3$ in three different ways (here $n$ is total number of elements in $\\vec{V}$ and $v_i$ is $i_{th}$ element of $\\vec{V}$).\n",
    "\n",
    "5.   Create two vectors $y$ and $\\hat{y}$ having **same** dimensions, where $\\hat{y}$ should consist of random numbers between $[0, 1]$ and $y$ should contain $0s$ and $1s$, for example $y = [0, 1, 1, 0, 1, 0, 0, 1, ..., 1]$. Compute the given expression: $$O = -\\frac{1}{n}\\sum_{i=1}^{n}[y_i\\log_2(\\hat{y_i}) + (1-y_i)\\log_2(1-\\hat{y_i})]$$\n",
    "where $n$ is the total number of elements in $y$ and $\\hat{y}$."
   ]
  },
  {
   "cell_type": "markdown",
   "metadata": {
    "colab": {},
    "colab_type": "code",
    "id": "-uDjdVFr76oH"
   },
   "source": [
    "Solution 1"
   ]
  },
  {
   "cell_type": "code",
   "execution_count": 6,
   "metadata": {},
   "outputs": [],
   "source": [
    "import numpy as np\n"
   ]
  },
  {
   "cell_type": "code",
   "execution_count": 23,
   "metadata": {},
   "outputs": [
    {
     "name": "stdout",
     "output_type": "stream",
     "text": [
      "Wall time: 2 ms\n"
     ]
    },
    {
     "data": {
      "text/plain": [
       "array([[24.24627836, 23.01748486, 22.19910944, ..., 25.14013552,\n",
       "        21.09367498, 23.85609681],\n",
       "       [29.41654612, 28.49239415, 27.58105892, ..., 29.96085203,\n",
       "        26.72179922, 27.77367866],\n",
       "       [23.26988377, 22.89427174, 22.76385015, ..., 23.17340493,\n",
       "        21.28239105, 22.00913393],\n",
       "       ...,\n",
       "       [25.98941942, 25.95414988, 25.53237068, ..., 25.98285314,\n",
       "        24.37629159, 25.70008073],\n",
       "       [26.6013472 , 25.22944114, 24.20886622, ..., 26.08667126,\n",
       "        23.73207841, 24.85005693],\n",
       "       [26.57206468, 26.23770279, 26.28799083, ..., 26.39652908,\n",
       "        24.91343913, 24.22598476]])"
      ]
     },
     "execution_count": 23,
     "metadata": {},
     "output_type": "execute_result"
    }
   ],
   "source": [
    "%%time\n",
    "arr1 = np.random.rand(100,100)\n",
    "arr2 = np.random.rand(100,100)\n",
    "np.dot(arr1,arr2)\n"
   ]
  },
  {
   "cell_type": "code",
   "execution_count": 24,
   "metadata": {},
   "outputs": [
    {
     "name": "stdout",
     "output_type": "stream",
     "text": [
      "Wall time: 796 ms\n"
     ]
    },
    {
     "data": {
      "text/plain": [
       "array([[24.24627836, 23.01748486, 22.19910944, ..., 25.14013552,\n",
       "        21.09367498, 23.85609681],\n",
       "       [29.41654612, 28.49239415, 27.58105892, ..., 29.96085203,\n",
       "        26.72179922, 27.77367866],\n",
       "       [23.26988377, 22.89427174, 22.76385015, ..., 23.17340493,\n",
       "        21.28239105, 22.00913393],\n",
       "       ...,\n",
       "       [25.98941942, 25.95414988, 25.53237068, ..., 25.98285314,\n",
       "        24.37629159, 25.70008073],\n",
       "       [26.6013472 , 25.22944114, 24.20886622, ..., 26.08667126,\n",
       "        23.73207841, 24.85005693],\n",
       "       [26.57206468, 26.23770279, 26.28799083, ..., 26.39652908,\n",
       "        24.91343913, 24.22598476]])"
      ]
     },
     "execution_count": 24,
     "metadata": {},
     "output_type": "execute_result"
    }
   ],
   "source": [
    "%%time\n",
    "\n",
    "arr3 = np.zeros((100,100))\n",
    "for i in range(100):\n",
    "    for j in range(100):\n",
    "        sum = 0\n",
    "        for k in range(100):\n",
    "            sum += arr1[i,k]*arr2[k,j]\n",
    "        arr3[i,j]=sum\n",
    "arr3\n",
    "        "
   ]
  },
  {
   "cell_type": "markdown",
   "metadata": {},
   "source": [
    "Solution 2"
   ]
  },
  {
   "cell_type": "code",
   "execution_count": 25,
   "metadata": {},
   "outputs": [],
   "source": [
    "w = np.random.rand(100,50)\n",
    "x = np.random.rand(50,200)"
   ]
  },
  {
   "cell_type": "code",
   "execution_count": 35,
   "metadata": {},
   "outputs": [],
   "source": [
    "z = np.dot(w,x)"
   ]
  },
  {
   "cell_type": "code",
   "execution_count": 36,
   "metadata": {},
   "outputs": [],
   "source": [
    "e = 1/(1+(np.exp(-z)))"
   ]
  },
  {
   "cell_type": "markdown",
   "metadata": {},
   "source": [
    "Solution 3"
   ]
  },
  {
   "cell_type": "code",
   "execution_count": 38,
   "metadata": {},
   "outputs": [
    {
     "name": "stdout",
     "output_type": "stream",
     "text": [
      "(100, 100)\n",
      "(10000,)\n"
     ]
    }
   ],
   "source": [
    "n = 100\n",
    "M = np.random.rand(n, n)\n",
    "M_flat = M.reshape(n*n)\n",
    "print(M.shape)\n",
    "print(M_flat.shape)"
   ]
  },
  {
   "cell_type": "code",
   "execution_count": null,
   "metadata": {},
   "outputs": [],
   "source": []
  }
 ],
 "metadata": {
  "colab": {
   "collapsed_sections": [],
   "name": "Numpy_Assignments_Questions.ipynb",
   "provenance": []
  },
  "kernelspec": {
   "display_name": "Python 3",
   "language": "python",
   "name": "python3"
  },
  "language_info": {
   "codemirror_mode": {
    "name": "ipython",
    "version": 3
   },
   "file_extension": ".py",
   "mimetype": "text/x-python",
   "name": "python",
   "nbconvert_exporter": "python",
   "pygments_lexer": "ipython3",
   "version": "3.7.8"
  }
 },
 "nbformat": 4,
 "nbformat_minor": 1
}
